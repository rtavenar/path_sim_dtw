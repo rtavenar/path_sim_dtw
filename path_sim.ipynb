{
 "cells": [
  {
   "cell_type": "code",
   "execution_count": 9,
   "metadata": {},
   "outputs": [],
   "source": [
    "import numpy as np\n",
    "\n",
    "\n",
    "def path_sim_to_diag(path):\n",
    "    max_i, max_j = path[-1]\n",
    "    max_i += 1  # Because indexing starts at 0\n",
    "    max_j += 1  # Because indexing starts at 0\n",
    "    scaled_path = [(i / max_i, j / max_j) for i, j in path]\n",
    "    diffs = [abs(i_scaled - j_scaled) for i_scaled, j_scaled in scaled_path]\n",
    "    return np.mean(diffs)"
   ]
  },
  {
   "cell_type": "code",
   "execution_count": 10,
   "metadata": {},
   "outputs": [
    {
     "name": "stdout",
     "output_type": "stream",
     "text": [
      "T=50, diag_dist(random_path)=0.03796610169491525, diag_dist(diagonal_path)=0.0, diag_dist(most_undiagonal_path)=0.48, \n",
      "T=50, diag_dist(random_path)=0.11536231884057972, diag_dist(diagonal_path)=0.0, diag_dist(most_undiagonal_path)=0.48, \n",
      "T=50, diag_dist(random_path)=0.08092307692307692, diag_dist(diagonal_path)=0.0, diag_dist(most_undiagonal_path)=0.48, \n"
     ]
    }
   ],
   "source": [
    "from tslearn.metrics import dtw_path\n",
    "\n",
    "np.random.seed(0)\n",
    "for T in [30, 50, 70]:\n",
    "    T = 50\n",
    "    x1 = np.random.rand(T, 3)\n",
    "    x2 = np.random.rand(50, 3)\n",
    "\n",
    "    path_as_pairs, dist = dtw_path(x1, x2)\n",
    "    diagonal_path = [(i, i) for i in range(T)]\n",
    "    pathological_path = [(0, i) for i in range(T - 1)] + [(i, T - 1) for i in range(1, T)]\n",
    "    print(f\"T={T}, diag_dist(random_path)={path_sim_to_diag(path_as_pairs)}, diag_dist(diagonal_path)={path_sim_to_diag(diagonal_path)}, diag_dist(most_undiagonal_path)={path_sim_to_diag(pathological_path)}, \")"
   ]
  }
 ],
 "metadata": {
  "kernelspec": {
   "display_name": "Python 3.8.9 64-bit",
   "language": "python",
   "name": "python3"
  },
  "language_info": {
   "codemirror_mode": {
    "name": "ipython",
    "version": 3
   },
   "file_extension": ".py",
   "mimetype": "text/x-python",
   "name": "python",
   "nbconvert_exporter": "python",
   "pygments_lexer": "ipython3",
   "version": "3.8.9"
  },
  "orig_nbformat": 4,
  "vscode": {
   "interpreter": {
    "hash": "25f9a3951446179f6c2016b22a60b44495fe90f43bda7f3caedfe2c1a9cd31f9"
   }
  }
 },
 "nbformat": 4,
 "nbformat_minor": 2
}
